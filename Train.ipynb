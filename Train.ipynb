{
 "cells": [
  {
   "cell_type": "code",
   "execution_count": 3,
   "metadata": {},
   "outputs": [],
   "source": [
    "import numpy as np\n",
    "import pandas as pd \n",
    "import keras \n",
    "from keras.layers import *\n",
    "from keras.models import *\n",
    "from keras.activations import *\n",
    "from sklearn import metrics\n",
    "from sklearn.preprocessing import StandardScaler\n",
    "import os\n",
    "import itertools\n",
    "import string\n",
    "import tensorflow as tf\n",
    "from itertools import product\n",
    "import math\n",
    "from utils import lex\n",
    "from utils import yacc\n",
    "from utils import cpp\n",
    "import zipfile"
   ]
  },
  {
   "cell_type": "markdown",
   "metadata": {},
   "source": [
    "# Here We Will Configure The Global Variables"
   ]
  },
  {
   "cell_type": "code",
   "execution_count": null,
   "metadata": {},
   "outputs": [],
   "source": [
    "zip_name = \"./data.zip\"\n",
    "\n",
    "\n",
    "cols = [\"code\", \"block\"]\n",
    "# The first name is the name of the containing folder of the codes \n",
    "list_files = archive.namelist()[1:]\n",
    "# Now We will make a scanner for the C++ language\n",
    "scanner = lex.lex(cpp)\n",
    "# If any thing was considered fault at the line i, we will consider all the lines [i - range_n, i + range_n) to be fault \n",
    "range_n = 4\n",
    "lits = cpp.literals\n",
    "toks = list(cpp.tokens)\n",
    "toks.remove(\"CPP_WS\")\n",
    "toks.insert(0, \"CPP_WS\")\n",
    "tok2n = dict(zip(toks + [i for i in lits], itertools.count()))\n",
    "n2tok = dict(zip(itertools.count(), toks + [i for i in lits]))\n",
    "\n",
    "max_v = 2147483647 - 1\n",
    "\n",
    "WEIGHTS_FOR_LOSS = np.array([[2,0.5],[0.1,0.1]])\n",
    "\n",
    "cons_per_line = 10\n",
    "\n",
    "\n",
    "df1 = pd.read_csv(list_files[0], sep = \"`\")\n",
    "df2 = pd.read_csv(\"examBefore.csv\", sep = \"`\")\n",
    "list1 = list(df1.columns)\n",
    "list2 = list(df2.columns)\n",
    "ind = -1\n",
    "for i in range(len(list1)):\n",
    "    if not (list1[i] == list2[i]):\n",
    "        ind = i\n",
    "        break\n",
    "ind_2 = ind\n",
    "ind_2 = -1"
   ]
  }
 ],
 "metadata": {
  "kernelspec": {
   "display_name": "Python 3",
   "language": "python",
   "name": "python3"
  },
  "language_info": {
   "codemirror_mode": {
    "name": "ipython",
    "version": 3
   },
   "file_extension": ".py",
   "mimetype": "text/x-python",
   "name": "python",
   "nbconvert_exporter": "python",
   "pygments_lexer": "ipython3",
   "version": "3.6.7"
  }
 },
 "nbformat": 4,
 "nbformat_minor": 2
}
